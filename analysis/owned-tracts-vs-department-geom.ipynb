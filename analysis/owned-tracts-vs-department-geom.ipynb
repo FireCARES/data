{
 "cells": [
  {
   "cell_type": "code",
   "execution_count": null,
   "metadata": {},
   "outputs": [],
   "source": [
    "import psycopg2\n",
    "import pandas as pd\n",
    "import geopandas as gpd\n",
    "from shapely import wkb\n",
    "from shapely.geometry import mapping as to_geojson\n",
    "import folium\n",
    "\n",
    "pd.options.display.max_columns = None\n",
    "pd.options.display.max_rows = None"
   ]
  },
  {
   "cell_type": "code",
   "execution_count": null,
   "metadata": {},
   "outputs": [],
   "source": [
    "# Assumes that you have a 'firecares' service setup in your ~/.pg_service.conf w/ SELECT access to 'firestation_firedepartment'\n",
    "conn = psycopg2.connect('service=firecares')"
   ]
  },
  {
   "cell_type": "code",
   "execution_count": null,
   "metadata": {},
   "outputs": [],
   "source": [
    "q = \"\"\"\n",
    "select id, name, state, fdid, population, geom, owned_tracts_geom\n",
    "from firestation_firedepartment\n",
    "where boundary_verified = true\n",
    "    and owned_tracts_geom is not null\n",
    "\"\"\"\n",
    "df = gpd.read_postgis(q, conn, crs=4326)\n",
    "df['owned_tracts_geom'] = df['owned_tracts_geom'].apply(lambda x: wkb.loads(x, hex=True))"
   ]
  },
  {
   "cell_type": "code",
   "execution_count": null,
   "metadata": {},
   "outputs": [],
   "source": [
    "q = \"\"\"\n",
    "select\n",
    "    id,\n",
    "    name,\n",
    "    state,\n",
    "    fdid,\n",
    "    ST_Area(geom) as barea,\n",
    "    ST_Area(owned_tracts_geom) as oarea,\n",
    "    ST_Area(ST_SymDifference(geom, owned_tracts_geom)) as diff,\n",
    "    ST_Area(ST_SymDifference(geom, owned_tracts_geom)) / ST_Area(geom) * 100 as perdiff_vs_boundaries\n",
    "from firestation_firedepartment\n",
    "where boundary_verified = true\n",
    "    and owned_tracts_geom is not null\n",
    "order by perdiff_vs_boundaries desc;\n",
    "\"\"\"\n",
    "\n",
    "diffdf = pd.read_sql(q, conn)\n",
    "display(diffdf)\n",
    "print 'Mean % difference in validated boundary vs owned tracts {}%'.format(diffdf.perdiff_vs_boundaries.mean())"
   ]
  },
  {
   "cell_type": "code",
   "execution_count": null,
   "metadata": {},
   "outputs": [],
   "source": [
    "def show_department_polys(_id):\n",
    "    m = folium.Map(tiles='Stamen Toner')\n",
    "    boundary = df[df.id == _id]['geom']\n",
    "    folium.GeoJson(\n",
    "        to_geojson(boundary),\n",
    "        name='Validated boundary',\n",
    "        style_function=lambda x: {'fillColor': '#0000ff', 'weight': 2, 'color': '#0000ff'}\n",
    "    ).add_to(m)\n",
    "    \n",
    "    owned_tracts = df[df.id == _id]['owned_tracts_geom']\n",
    "    \n",
    "    folium.GeoJson(\n",
    "        to_geojson(gpd.GeoSeries(owned_tracts)),\n",
    "        name='Owned census tracts',\n",
    "        style_function=lambda x: {'fillColor': '#00cc00', 'weight': 0.4, 'color': '#00cc00'}\n",
    "    ).add_to(m)\n",
    "    \n",
    "    folium.LayerControl().add_to(m)\n",
    "    \n",
    "    extents_geom = owned_tracts.values[0] if owned_tracts.values[0].area > boundary.values[0].area else boundary.values[0]\n",
    "    \n",
    "    x1, y1, x2, y2 = extents_geom.bounds\n",
    "    m.fit_bounds([(y1, x1), (y2, x2)])\n",
    "    \n",
    "    display(m)"
   ]
  },
  {
   "cell_type": "code",
   "execution_count": null,
   "metadata": {},
   "outputs": [],
   "source": [
    "show_department_polys(91743)"
   ]
  }
 ],
 "metadata": {
  "kernelspec": {
   "display_name": "Python 2",
   "language": "python",
   "name": "python2"
  },
  "language_info": {
   "codemirror_mode": {
    "name": "ipython",
    "version": 2
   },
   "file_extension": ".py",
   "mimetype": "text/x-python",
   "name": "python",
   "nbconvert_exporter": "python",
   "pygments_lexer": "ipython2",
   "version": "2.7.14"
  }
 },
 "nbformat": 4,
 "nbformat_minor": 2
}
