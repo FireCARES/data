{
 "cells": [
  {
   "cell_type": "code",
   "execution_count": null,
   "metadata": {
    "collapsed": false,
    "deletable": true,
    "editable": true
   },
   "outputs": [],
   "source": [
    "# This notebook assumes to be running from your local machine at this folder location using a Python 2 kernel,\n",
    "# with the \"nfirs\" and \"firecares-dev\" postgres service configured in your pg_service.conf, pointed at the\n",
    "# NIFRS database as well as the FireCARES database instance\n",
    "# see requirements.txt in the root of the repository for python dependencies\n",
    "\n",
    "import sys\n",
    "import os\n",
    "import time\n",
    "import pandas as pd\n",
    "import numpy as np\n",
    "import psycopg2\n",
    "import folium\n",
    "import matplotlib as plt\n",
    "from shapely import wkb\n",
    "from shapely.geometry import mapping\n",
    "from pretty import pprint\n",
    "from IPython.display import display\n",
    "#pd.set_option(\"display.max_rows\",100)\n",
    "\n",
    "def display_df_geom(df, col, row=0):\n",
    "    return display_geom(wkb.loads(df[col][row], hex=True))\n",
    "\n",
    "def display_geom(geom):\n",
    "    _map = folium.Map(location=[geom.centroid.y, geom.centroid.x],\n",
    "                      tiles='Stamen Toner')\n",
    "    _map.choropleth(geo_str=mapping(geom), line_weight=0, fill_opacity=0.2, fill_color='green')\n",
    "    ll = geom.bounds[1::-1]\n",
    "    ur = geom.bounds[3:1:-1]\n",
    "    _map.fit_bounds([ll, ur])\n",
    "\n",
    "    return _map\n",
    "\n",
    "nfirs = psycopg2.connect(\"service=nfirs\")\n",
    "fc = psycopg2.connect(\"service=firecares-dev\")"
   ]
  },
  {
   "cell_type": "code",
   "execution_count": null,
   "metadata": {
    "collapsed": false,
    "deletable": true,
    "editable": true
   },
   "outputs": [],
   "source": [
    "# Pull featured departments that have a computed census tract boundary\n",
    "\n",
    "df = pd.read_sql_query(\"select id, name, owned_tracts_geom from firestation_firedepartment where featured and not archived;\", fc)\n",
    "print 'TOTAL NON-ARCHIVED FEATURED: {}'.format(len(df))\n",
    "\n",
    "print 'DEPARTMENTS MISSING CENSUS TRACT JURISDICTION'\n",
    "display(df[df.owned_tracts_geom.isnull()][['id', 'name']])\n",
    "\n",
    "df2 = pd.read_sql_query(\"select id, name, state, owned_tracts_geom from firestation_firedepartment where featured and not archived and owned_tracts_geom is not null;\", fc)\n",
    "records = df2.to_dict(orient='records')\n",
    "\n",
    "print 'TOTAL NON-ARCHIVED FEATURED WITH CENSUS GEOM {}'.format(len(records))"
   ]
  },
  {
   "cell_type": "code",
   "execution_count": null,
   "metadata": {
    "collapsed": true,
    "deletable": true,
    "editable": true
   },
   "outputs": [],
   "source": [
    "# Create holding table\n",
    "create = \"\"\"\n",
    "create table if not exists firedepartment_parcel_unions (\n",
    "    fd_id integer not null,\n",
    "    parcel_union_geom geometry(MultiPolygon, 4326),\n",
    "    owned_tracts_geom geometry(MultiPolygon, 4326)\n",
    ");\n",
    "\n",
    "create unique index on firedepartment_parcel_unions (fd_id);\n",
    "\"\"\"\n",
    "with nfirs.cursor() as c:\n",
    "    c.execute(create)\n",
    "    nfirs.commit()"
   ]
  },
  {
   "cell_type": "code",
   "execution_count": null,
   "metadata": {
    "collapsed": false,
    "deletable": true,
    "editable": true
   },
   "outputs": [],
   "source": [
    "PARCEL_COVERAGE = \"\"\"\n",
    "select ST_Union(p.wkb_geometry)\n",
    "from parcel_risk_category_local p\n",
    "where ST_Intersects(ST_SetSRID(%(owned_geom)s::geometry, 4326), p.wkb_geometry)\n",
    "\"\"\"\n",
    "\n",
    "records = pd.read_sql_query(\"select id, name, state, owned_tracts_geom from firestation_firedepartment where featured and not archived and owned_tracts_geom is not null;\", fc).to_dict(orient='records')\n",
    "\n",
    "filtered = records # filter(lambda x: x.get('id') == 95982, records)\n",
    "\n",
    "def already_done(fd_id):\n",
    "    with nfirs.cursor() as c:\n",
    "        c.execute(\"select fd_id from firedepartment_parcel_unions where fd_id = %(fd_id)s;\", {'fd_id': fd_id})\n",
    "        return c.fetchone() is not None\n",
    "\n",
    "for r in filtered:\n",
    "    if already_done(r.get('id')):\n",
    "        continue\n",
    "    print 'Working on {}'.format(r.get('id'))\n",
    "    jurisdiction = wkb.loads(r.get('owned_tracts_geom'), hex=True)\n",
    "    df = pd.read_sql_query(PARCEL_COVERAGE, nfirs, params={'owned_geom': jurisdiction.wkb_hex})\n",
    "    parcels = wkb.loads(df['st_union'][0], hex=True)\n",
    "    #_map = display_geom(parcels)\n",
    "    #_map.choropleth(geo_str=mapping(jurisdiction), fill_opacity=0, line_weight=10, line_color='red')\n",
    "    #display(_map)\n",
    "    \n",
    "    with nfirs.cursor() as c:\n",
    "        c.execute(\"insert into firedepartment_parcel_unions values (%(fd_id)s, ST_SetSRID(%(parcels)s::geometry, 4326), ST_SetSRID(%(tracts)s::geometry, 4326));\",\n",
    "                  {\n",
    "                      'fd_id': r.get('id'),\n",
    "                      'parcels': parcels.wkb_hex,\n",
    "                      'tracts': jurisdiction.wkb_hex\n",
    "                  })\n",
    "        nfirs.commit()\n",
    "    \n",
    "    print 'DEPT {} - parcel coverage: {} census jurisdiction: {} % coverage: {}'.format(r.get('id'),\n",
    "                                                                                        parcels.area,\n",
    "                                                                                        jurisdiction.area,\n",
    "                                                                                        parcels.area / jurisdiction.area)"
   ]
  },
  {
   "cell_type": "code",
   "execution_count": null,
   "metadata": {
    "collapsed": false,
    "deletable": true,
    "editable": true
   },
   "outputs": [],
   "source": [
    "%matplotlib inline\n",
    "q = \"\"\"\n",
    "select fd_id, ST_Area(parcel_union_geom) / ST_Area(owned_tracts_geom) as parcel_percent_coverage from firedepartment_parcel_unions;\n",
    "\"\"\"\n",
    "\n",
    "df = pd.read_sql_query(q, nfirs)\n",
    "df[['parcel_percent_coverage']].hist()\n",
    "\n"
   ]
  },
  {
   "cell_type": "code",
   "execution_count": null,
   "metadata": {
    "collapsed": false,
    "deletable": true,
    "editable": true
   },
   "outputs": [],
   "source": [
    "df.sort(['parcel_percent_coverage'])"
   ]
  },
  {
   "cell_type": "markdown",
   "metadata": {
    "deletable": true,
    "editable": true
   },
   "source": [
    "#### Visualize a single parcel coverage vs census tract based jurisdiction"
   ]
  },
  {
   "cell_type": "code",
   "execution_count": null,
   "metadata": {
    "collapsed": false,
    "deletable": true,
    "editable": true
   },
   "outputs": [],
   "source": [
    "q = \"\"\"\n",
    "select fd_id, parcel_union_geom, owned_tracts_geom from firedepartment_parcel_unions where fd_id = %(fd_id)s;\n",
    "\"\"\"\n",
    "\n",
    "df = pd.read_sql_query(q, nfirs, params={'fd_id': 80595})\n",
    "\n",
    "d = df.to_dict(orient='records')[0]\n",
    "\n",
    "jurisdiction = wkb.loads(d.get('owned_tracts_geom'), hex=True)\n",
    "parcels = wkb.loads(d.get('parcel_union_geom'), hex=True)\n",
    "\n",
    "#_map = display_geom(parcels)\n",
    "#_map.choropleth(geo_str=mapping(jurisdiction), fill_opacity=0, line_weight=2, line_color='red')\n",
    "_map = display_geom(jurisdiction)\n",
    "display(_map)"
   ]
  }
 ],
 "metadata": {
  "kernelspec": {
   "display_name": "Python 2",
   "language": "python",
   "name": "python2"
  },
  "language_info": {
   "codemirror_mode": {
    "name": "ipython",
    "version": 2
   },
   "file_extension": ".py",
   "mimetype": "text/x-python",
   "name": "python",
   "nbconvert_exporter": "python",
   "pygments_lexer": "ipython2",
   "version": "2.7.12"
  }
 },
 "nbformat": 4,
 "nbformat_minor": 2
}
