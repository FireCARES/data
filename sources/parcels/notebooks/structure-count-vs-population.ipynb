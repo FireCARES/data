{
 "cells": [
  {
   "cell_type": "code",
   "execution_count": 1,
   "metadata": {},
   "outputs": [
    {
     "ename": "OperationalError",
     "evalue": "definition of service \"firecares-dev\" not found\n",
     "traceback": [
      "\u001b[0;31m---------------------------------------------------------------------------\u001b[0m",
      "\u001b[0;31mOperationalError\u001b[0m                          Traceback (most recent call last)",
      "\u001b[0;32m<ipython-input-1-29ee4a320f40>\u001b[0m in \u001b[0;36m<module>\u001b[0;34m\u001b[0m\n\u001b[1;32m      9\u001b[0m \u001b[0mpd\u001b[0m\u001b[0;34m.\u001b[0m\u001b[0mset_option\u001b[0m\u001b[0;34m(\u001b[0m\u001b[0;34m\"display.max_rows\"\u001b[0m\u001b[0;34m,\u001b[0m \u001b[0;36m1000\u001b[0m\u001b[0;34m)\u001b[0m\u001b[0;34m\u001b[0m\u001b[0;34m\u001b[0m\u001b[0m\n\u001b[1;32m     10\u001b[0m \u001b[0;34m\u001b[0m\u001b[0m\n\u001b[0;32m---> 11\u001b[0;31m \u001b[0mconn\u001b[0m \u001b[0;34m=\u001b[0m \u001b[0mpsycopg2\u001b[0m\u001b[0;34m.\u001b[0m\u001b[0mconnect\u001b[0m\u001b[0;34m(\u001b[0m\u001b[0;34m'service=firecares-dev'\u001b[0m\u001b[0;34m)\u001b[0m\u001b[0;34m\u001b[0m\u001b[0;34m\u001b[0m\u001b[0m\n\u001b[0m\u001b[1;32m     12\u001b[0m \u001b[0mnfirs\u001b[0m \u001b[0;34m=\u001b[0m \u001b[0mpsycopg2\u001b[0m\u001b[0;34m.\u001b[0m\u001b[0mconnect\u001b[0m\u001b[0;34m(\u001b[0m\u001b[0;34m'service=nfirs'\u001b[0m\u001b[0;34m)\u001b[0m\u001b[0;34m\u001b[0m\u001b[0;34m\u001b[0m\u001b[0m\n\u001b[1;32m     13\u001b[0m \u001b[0mparcels\u001b[0m \u001b[0;34m=\u001b[0m \u001b[0mpsycopg2\u001b[0m\u001b[0;34m.\u001b[0m\u001b[0mconnect\u001b[0m\u001b[0;34m(\u001b[0m\u001b[0mservice\u001b[0m\u001b[0;34m=\u001b[0m\u001b[0;34m'parcels'\u001b[0m\u001b[0;34m)\u001b[0m\u001b[0;34m\u001b[0m\u001b[0;34m\u001b[0m\u001b[0m\n",
      "\u001b[0;32m/opt/conda/lib/python3.7/site-packages/psycopg2/__init__.py\u001b[0m in \u001b[0;36mconnect\u001b[0;34m(dsn, connection_factory, cursor_factory, **kwargs)\u001b[0m\n\u001b[1;32m    124\u001b[0m \u001b[0;34m\u001b[0m\u001b[0m\n\u001b[1;32m    125\u001b[0m     \u001b[0mdsn\u001b[0m \u001b[0;34m=\u001b[0m \u001b[0m_ext\u001b[0m\u001b[0;34m.\u001b[0m\u001b[0mmake_dsn\u001b[0m\u001b[0;34m(\u001b[0m\u001b[0mdsn\u001b[0m\u001b[0;34m,\u001b[0m \u001b[0;34m**\u001b[0m\u001b[0mkwargs\u001b[0m\u001b[0;34m)\u001b[0m\u001b[0;34m\u001b[0m\u001b[0;34m\u001b[0m\u001b[0m\n\u001b[0;32m--> 126\u001b[0;31m     \u001b[0mconn\u001b[0m \u001b[0;34m=\u001b[0m \u001b[0m_connect\u001b[0m\u001b[0;34m(\u001b[0m\u001b[0mdsn\u001b[0m\u001b[0;34m,\u001b[0m \u001b[0mconnection_factory\u001b[0m\u001b[0;34m=\u001b[0m\u001b[0mconnection_factory\u001b[0m\u001b[0;34m,\u001b[0m \u001b[0;34m**\u001b[0m\u001b[0mkwasync\u001b[0m\u001b[0;34m)\u001b[0m\u001b[0;34m\u001b[0m\u001b[0;34m\u001b[0m\u001b[0m\n\u001b[0m\u001b[1;32m    127\u001b[0m     \u001b[0;32mif\u001b[0m \u001b[0mcursor_factory\u001b[0m \u001b[0;32mis\u001b[0m \u001b[0;32mnot\u001b[0m \u001b[0;32mNone\u001b[0m\u001b[0;34m:\u001b[0m\u001b[0;34m\u001b[0m\u001b[0;34m\u001b[0m\u001b[0m\n\u001b[1;32m    128\u001b[0m         \u001b[0mconn\u001b[0m\u001b[0;34m.\u001b[0m\u001b[0mcursor_factory\u001b[0m \u001b[0;34m=\u001b[0m \u001b[0mcursor_factory\u001b[0m\u001b[0;34m\u001b[0m\u001b[0;34m\u001b[0m\u001b[0m\n",
      "\u001b[0;31mOperationalError\u001b[0m: definition of service \"firecares-dev\" not found\n"
     ],
     "output_type": "error"
    }
   ],
   "source": [
    " import psycopg2\n",
    "import pandas as pd\n",
    "import folium\n",
    "from shapely import wkb\n",
    "from shapely.geometry import mapping\n",
    "from tabulate import tabulate\n",
    "from IPython.display import display\n",
    "\n",
    "pd.set_option(\"display.max_rows\", 1000)\n",
    "\n",
    "conn = psycopg2.connect('service=firecares-dev')\n",
    "nfirs = psycopg2.connect('service=nfirs')\n",
    "parcels = psycopg2.connect(service='parcels')\n",
    "\n",
    "def display_geom(geom):\n",
    "    _map = folium.Map(location=[geom.centroid.y, geom.centroid.x],\n",
    "                      tiles='Stamen Toner')\n",
    "    _map.choropleth(geo_str=mapping(geom), line_weight=0, fill_opacity=0.2, fill_color='green')\n",
    "    ll = geom.bounds[1::-1]\n",
    "    ur = geom.bounds[3:1:-1]\n",
    "    _map.fit_bounds([ll, ur])\n",
    "\n",
    "    return _map"
   ]
  },
  {
   "cell_type": "markdown",
   "metadata": {},
   "source": [
    "### People per structure used for sanity check on parcel counts by department"
   ]
  },
  {
   "cell_type": "code",
   "execution_count": null,
   "metadata": {},
   "outputs": [],
   "source": [
    "q = \"\"\"select fd.id, fd.name, fd.state,\n",
    "    COALESCE(fd.population, 0) as population,\n",
    "    sum(rm.structure_count) as structure_count,\n",
    "    fd.population / sum(rm.structure_count)::float as people_per_structure\n",
    "from firestation_firedepartment fd\n",
    "    inner join firestation_firedepartmentriskmodels rm\n",
    "    on rm.department_id = fd.id\n",
    "where rm.level != 0\n",
    "group by fd.id, COALESCE(fd.population, 0)\n",
    "order by COALESCE(population / sum(rm.structure_count)::float, 0) desc\"\"\"\n",
    "\n",
    "df = pd.read_sql_query(q, conn)\n",
    "df.to_csv('/tmp/people_per_structure_by_department.csv')\n",
    "\n",
    "filtered = df[df['population'] > 100000][:30]\n",
    "res = tabulate(filtered, headers='keys', tablefmt='pipe')\n",
    "open('/tmp/outf.md', 'w').write(res)\n",
    "! cat /tmp/outf.md | pbcopy\n",
    "display(filtered)"
   ]
  },
  {
   "cell_type": "markdown",
   "metadata": {},
   "source": [
    "### Get owned census-tracts for department and count parcels"
   ]
  },
  {
   "cell_type": "code",
   "execution_count": null,
   "metadata": {},
   "outputs": [],
   "source": [
    "q = \"\"\"SELECT ST_Multi(ST_Union(bg.geom))\n",
    "        FROM nist.tract_years ty\n",
    "        INNER JOIN census_block_groups_2010 bg\n",
    "        ON ty.tr10_fid = ('14000US'::text || \"substring\"((bg.geoid10)::text, 0, 12))\n",
    "        WHERE ty.fc_dept_id = %(id)s\n",
    "        GROUP BY ty.fc_dept_id\"\"\"\n",
    "\n",
    "geom = pd.read_sql_query(q, nfirs, params={'id': 96649})['st_multi'][0]"
   ]
  },
  {
   "cell_type": "code",
   "execution_count": null,
   "metadata": {},
   "outputs": [],
   "source": [
    "display_geom(wkb.loads(geom, hex=True))"
   ]
  },
  {
   "cell_type": "markdown",
   "metadata": {},
   "source": [
    "### Structure count by hazard category by owned census tract geometries"
   ]
  },
  {
   "cell_type": "code",
   "execution_count": null,
   "metadata": {},
   "outputs": [],
   "source": [
    "q = \"\"\"select count(1), risk_category\n",
    "from parcel_risk_category_local p\n",
    "where ST_Intersects(p.wkb_geometry, ST_SetSRID(%(owned_geom)s::geometry, 4326))\n",
    "group by risk_category\"\"\"\n",
    "\n",
    "df = pd.read_sql_query(q, nfirs, params={'owned_geom': geom})\n",
    "display(df)"
   ]
  },
  {
   "cell_type": "markdown",
   "metadata": {},
   "source": [
    "### Export of parcels by owned census tracts"
   ]
  },
  {
   "cell_type": "code",
   "execution_count": 61,
   "metadata": {},
   "outputs": [],
   "source": [
    "q = \"\"\"select parcel_id, risk_category\n",
    "from parcel_risk_category_local l\n",
    "where ST_Intersects(l.wkb_geometry, ST_SetSRID(%(owned_geom)s::geometry, 4326))\"\"\"\n",
    "\n",
    "owned_parcels = pd.read_sql_query(q, nfirs, params={'owned_geom': geom})"
   ]
  },
  {
   "cell_type": "code",
   "execution_count": 70,
   "metadata": {},
   "outputs": [],
   "source": [
    "import geopandas\n",
    "\n",
    "q = \"\"\"select p.*, rc.risk_category as hazard_level from parcels p\n",
    "inner join parcel_risk_category_local rc using (parcel_id)\n",
    "where p.parcel_id in %(ids)s\"\"\"\n",
    "\n",
    "res = map(lambda x: x[0], owned_parcels.values)\n",
    "\n",
    "gdf = geopandas.read_postgis(q, nfirs, geom_col='wkb_geometry', params={'ids': tuple(res)})\n",
    "gdf.drop('risk_category', 1)\n",
    "gdf.crs = {'init': 'epsg:4326'}\n",
    "\n",
    "gdf.to_file('/tmp/tamarac-parcels.shp', driver='ESRI Shapefile')"
   ]
  }
 ],
 "metadata": {
  "kernelspec": {
   "display_name": "Python 2",
   "language": "python",
   "name": "python2"
  },
  "language_info": {
   "codemirror_mode": {
    "name": "ipython",
    "version": 2
   },
   "file_extension": ".py",
   "mimetype": "text/x-python",
   "name": "python",
   "nbconvert_exporter": "python",
   "pygments_lexer": "ipython2",
   "version": "2.7.13"
  },
  "pycharm": {
   "stem_cell": {
    "cell_type": "raw",
    "source": [],
    "metadata": {
     "collapsed": false
    }
   }
  }
 },
 "nbformat": 4,
 "nbformat_minor": 2
}