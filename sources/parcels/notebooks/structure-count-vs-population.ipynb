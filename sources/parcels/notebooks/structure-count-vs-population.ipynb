{
 "cells": [
  {
   "cell_type": "code",
   "execution_count": null,
   "metadata": {
    "collapsed": true
   },
   "outputs": [],
   "source": [
    "import psycopg2\n",
    "import pandas as pd\n",
    "import folium\n",
    "from shapely import wkb\n",
    "from shapely.geometry import mapping\n",
    "\n",
    "pd.set_option(\"display.max_rows\", 1000)\n",
    "\n",
    "conn = psycopg2.connect('service=firecares-dev')\n",
    "nfirs = psycopg2.connect('service=nfirs')\n",
    "\n",
    "def display_geom(geom):\n",
    "    _map = folium.Map(location=[geom.centroid.y, geom.centroid.x],\n",
    "                      tiles='Stamen Toner')\n",
    "    _map.choropleth(geo_str=mapping(geom), line_weight=0, fill_opacity=0.2, fill_color='green')\n",
    "    ll = geom.bounds[1::-1]\n",
    "    ur = geom.bounds[3:1:-1]\n",
    "    _map.fit_bounds([ll, ur])\n",
    "\n",
    "    return _map"
   ]
  },
  {
   "cell_type": "markdown",
   "metadata": {},
   "source": [
    "### People per structure used for sanity check on parcel counts by department"
   ]
  },
  {
   "cell_type": "code",
   "execution_count": null,
   "metadata": {
    "collapsed": false
   },
   "outputs": [],
   "source": [
    "q = \"\"\"select fd.id, fd.name, fd.state,\n",
    "    COALESCE(fd.population, 0) as population,\n",
    "    sum(rm.structure_count) as structure_count,\n",
    "    fd.population / sum(rm.structure_count)::float as people_per_structure\n",
    "from firestation_firedepartment fd\n",
    "    inner join firestation_firedepartmentriskmodels rm\n",
    "    on rm.department_id = fd.id\n",
    "where rm.level != 0\n",
    "group by fd.id, COALESCE(fd.population, 0)\n",
    "order by COALESCE(population / sum(rm.structure_count)::float, 0) desc\"\"\"\n",
    "\n",
    "df = pd.read_sql_query(q, conn)\n",
    "df.to_csv('/tmp/people_per_structure_by_department.csv')\n",
    "df"
   ]
  },
  {
   "cell_type": "markdown",
   "metadata": {},
   "source": [
    "### Get owned census-tracts for department and count parcels"
   ]
  },
  {
   "cell_type": "code",
   "execution_count": null,
   "metadata": {
    "collapsed": false
   },
   "outputs": [],
   "source": [
    "q = \"\"\"SELECT ST_Multi(ST_Union(bg.geom))\n",
    "        FROM nist.tract_years ty\n",
    "        INNER JOIN census_block_groups_2010 bg\n",
    "        ON ty.tr10_fid = ('14000US'::text || \"substring\"((bg.geoid10)::text, 0, 12))\n",
    "        WHERE ty.fc_dept_id = %(id)s\n",
    "        GROUP BY ty.fc_dept_id\"\"\"\n",
    "\n",
    "geom = pd.read_sql_query(q, nfirs, params={'id': 95982})['st_multi'][0]"
   ]
  },
  {
   "cell_type": "code",
   "execution_count": null,
   "metadata": {
    "collapsed": false
   },
   "outputs": [],
   "source": [
    "q = \"\"\"select count(1)\n",
    "from parcel_risk_category_local p\n",
    "where ST_Intersects(p.wkb_geometry, ST_SetSRID(%(owned_geom)s::geometry, 4326))\"\"\"\n",
    "\n",
    "pd.read_sql_query(q, nfirs, params={'owned_geom': geom})"
   ]
  },
  {
   "cell_type": "code",
   "execution_count": null,
   "metadata": {
    "collapsed": true
   },
   "outputs": [],
   "source": []
  }
 ],
 "metadata": {
  "kernelspec": {
   "display_name": "Python 2",
   "language": "python",
   "name": "python2"
  },
  "language_info": {
   "codemirror_mode": {
    "name": "ipython",
    "version": 2
   },
   "file_extension": ".py",
   "mimetype": "text/x-python",
   "name": "python",
   "nbconvert_exporter": "python",
   "pygments_lexer": "ipython2",
   "version": "2.7.12"
  }
 },
 "nbformat": 4,
 "nbformat_minor": 2
}
