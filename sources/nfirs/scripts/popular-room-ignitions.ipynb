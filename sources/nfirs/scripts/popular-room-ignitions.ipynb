{
 "cells": [
  {
   "cell_type": "markdown",
   "metadata": {},
   "source": [
    "### Find the top rooms ignited and the top materials in those rooms that were first ignited"
   ]
  },
  {
   "cell_type": "code",
   "execution_count": 1,
   "metadata": {},
   "outputs": [
    {
     "name": "stderr",
     "output_type": "stream",
     "text": [
      "/Users/joe/.pyenv/versions/2.7.14/envs/firecares-data/lib/python2.7/site-packages/psycopg2/__init__.py:144: UserWarning: The psycopg2 wheel package will be renamed from release 2.8; in order to keep installing from binary please use \"pip install psycopg2-binary\" instead. For details see: <http://initd.org/psycopg/docs/install.html#binary-install-from-pypi>.\n",
      "  \"\"\")\n"
     ]
    }
   ],
   "source": [
    "import psycopg2\n",
    "import pandas as pd\n",
    "from IPython.display import display\n",
    "\n",
    "conn = psycopg2.connect(service='nfirs')\n",
    "pd.options.display.max_rows = 1000\n",
    "\n",
    "df = pd.read_sql_query(\"select * from codelookup where fieldid = 'PROP_USE' and length(code_value) = 3 order by code_value\", conn)['code_value']\n",
    "codes = list(df.values)"
   ]
  },
  {
   "cell_type": "markdown",
   "metadata": {},
   "source": [
    "#### By property use type (batch by property type)"
   ]
  },
  {
   "cell_type": "code",
   "execution_count": 2,
   "metadata": {},
   "outputs": [],
   "source": [
    "q = \"\"\"\n",
    "create materialized view if not exists holistic_buildingfires as (select b.*, f.num_unit, f.not_res, f.bldg_invol, f.acres_burn, f.less_1acre, f.on_site_m1, f.mat_stor1, f.on_site_m2,\n",
    "      f.mat_stor2, f.on_site_m3, f.mat_stor3, f.area_orig, f.heat_sourc, f.first_ign, f.conf_orig, f.type_mat, f.cause_ign,\n",
    "      f.fact_ign_1, f.fact_ign_2, f.hum_fac_1, f.hum_fac_2, f.hum_fac_3, f.hum_fac_4, f.hum_fac_5, f.hum_fac_6, f.hum_fac_7,\n",
    "      f.hum_fac_8, f.age, f.sex, f.equip_inv, f.sup_fac_1, f.sup_fac_2, f.sup_fac_3, f.mob_invol, f.mob_type, f.mob_make, f.mob_model,\n",
    "      f.mob_year, f.mob_lic_pl, f.mob_state, f.mob_vin_no, f.eq_brand, f.eq_model, f.eq_ser_no, f.eq_year, f.eq_power, f.eq_port,\n",
    "      f.fire_sprd, f.struc_type, f.struc_stat, f.bldg_above, f.bldg_below, f.bldg_lgth, f.bldg_width, f.tot_sq_ft, f.fire_orig,\n",
    "      f.st_dam_min, f.st_dam_sig, f.st_dam_hvy, f.st_dam_xtr, f.flame_sprd, f.item_sprd, f.mat_sprd, f.detector, f.det_type,\n",
    "      f.det_power, f.det_operat, f.det_effect, f.det_fail, f.aes_pres, f.aes_type, f.aes_oper, f.no_spr_op, f.aes_fail from basicincident b\n",
    "inner join fireincident f\n",
    "    on ltrim(trim(b.inc_no), '0') = ltrim(trim(f.inc_no), '0') and\n",
    "    ltrim(trim(b.fdid), '0') = ltrim(trim(f.fdid), '0') and\n",
    "    b.state = f.state and\n",
    "    b.inc_date = f.inc_date and\n",
    "    trim(b.exp_no) = trim(f.exp_no)\n",
    ");\n",
    "\"\"\"\n",
    "\n",
    "with conn.cursor() as c:\n",
    "    c.execute(q)\n",
    "conn.commit()"
   ]
  },
  {
   "cell_type": "code",
   "execution_count": 2,
   "metadata": {},
   "outputs": [],
   "source": [
    "# Create a CSV for each property use type\n",
    "\n",
    "q = \"\"\"\n",
    "SELECT x.prop_use,\n",
    "       area_orig,\n",
    "       first_ign,\n",
    "       x.civ_inj,\n",
    "       x.civ_death,\n",
    "       x.flame_sprd,\n",
    "       x.item_sprd, \n",
    "       x.cnt\n",
    "FROM\n",
    "    ( SELECT *,\n",
    "             row_number() over (partition BY area_orig\n",
    "                                ORDER BY area_orig, w.cnt DESC, first_ign, w.flame_sprd,w.item_sprd, w.civ_death, w.civ_inj DESC) row_num\n",
    "     FROM\n",
    "         (SELECT distinct bf.area_orig,\n",
    "                 bf.first_ign,\n",
    "                 bf.prop_use,\n",
    "                 bf.flame_sprd,\n",
    "                 bf.item_sprd,\n",
    "                 COALESCE(bf.oth_death, 0) as civ_death,\n",
    "                 COALESCE(bf.oth_inj, 0) as civ_inj,\n",
    "                 count(*) OVER ( PARTITION BY bf.area_orig, bf.first_ign, bf.flame_sprd, bf.item_sprd, COALESCE(bf.oth_death, 0)+COALESCE(bf.oth_inj, 0) ) AS cnt,\n",
    "                 row_number() OVER ( PARTITION BY bf.area_orig, bf.first_ign, bf.flame_sprd, bf.item_sprd, COALESCE(bf.oth_death, 0)+COALESCE(bf.oth_inj, 0) ) AS row_numbers\n",
    "          FROM holistic_buildingfires bf\n",
    "          WHERE bf.area_orig IN\n",
    "                  ( SELECT area_orig\n",
    "                   FROM holistic_buildingfires\n",
    "                   WHERE prop_use = %(use)s\n",
    "                       AND area_orig != 'UU'\n",
    "                       AND extract(year from inc_date) > 2011\n",
    "                   GROUP BY area_orig\n",
    "                   ORDER BY count(1) DESC LIMIT 8)\n",
    "              AND bf.prop_use = %(use)s\n",
    "              AND bf.first_ign != 'UU'\n",
    "              AND extract(year from inc_date) > 2011\n",
    "          ORDER BY area_orig,\n",
    "                   first_ign ) w\n",
    "     WHERE w.row_numbers = 1) x\n",
    "ORDER BY area_orig,\n",
    "         x.cnt DESC,\n",
    "         first_ign\n",
    "\"\"\"\n",
    "\n",
    "# for c in codes[1:2]:\n",
    "#     df = pd.read_sql_query(q, conn, params=dict(use=c))\n",
    "#     display(df)\n",
    "\n",
    "for c in codes:\n",
    "    df = pd.read_sql_query(q, conn, params=dict(use=c))\n",
    "    df.to_csv('/tmp/{}.csv'.format(c))"
   ]
  },
  {
   "cell_type": "code",
   "execution_count": null,
   "metadata": {},
   "outputs": [],
   "source": [
    "# Testing/sanity checks\n",
    "\n",
    "q = \"\"\"SELECT bf.prop_use, bf.area_orig,\n",
    "                 bf.first_ign,\n",
    "                 bf.flame_sprd,\n",
    "                 COALESCE(bf.oth_death, 0) + COALESCE(bf.oth_inj,0) as civ_inj_death,\n",
    "                 count(*) OVER ( PARTITION BY bf.area_orig, bf.first_ign, bf.flame_sprd, COALESCE(bf.oth_death, 0)+COALESCE(bf.oth_inj,0) ) AS cnt,\n",
    "                 row_number() OVER ( PARTITION BY bf.area_orig, bf.first_ign, bf.flame_sprd, COALESCE(bf.oth_death, 0)+COALESCE(bf.oth_inj,0) ) AS row_numbers\n",
    "          FROM buildingfires bf\n",
    "          WHERE bf.area_orig IN\n",
    "                  ( SELECT area_orig\n",
    "                   FROM buildingfires\n",
    "                   WHERE prop_use = %(use)s\n",
    "                       AND area_orig != 'UU'\n",
    "                   GROUP BY area_orig\n",
    "                   ORDER BY count(1) DESC LIMIT 8)\n",
    "              AND bf.prop_use = %(use)s\n",
    "              AND bf.first_ign != 'UU'\n",
    "          ORDER BY area_orig,\n",
    "                   first_ign,\n",
    "                   cnt desc\"\"\"\n",
    "\n",
    "pd.read_sql_query(q, conn, params=dict(use='100'))"
   ]
  },
  {
   "cell_type": "code",
   "execution_count": null,
   "metadata": {},
   "outputs": [],
   "source": [
    "q = \"\"\"\n",
    "select count(1)\n",
    "from joint_buildingfires\n",
    "where prop_use='100'\n",
    "    and area_orig = '00'\n",
    "    and first_ign = '00'\n",
    "    and COALESCE(oth_death, 0) + COALESCE(oth_inj, 0) = 0\n",
    "    and flame_sprd = 'N'\n",
    "\"\"\"\n",
    "\n",
    "pd.read_sql_query(q, conn)"
   ]
  },
  {
   "cell_type": "code",
   "execution_count": null,
   "metadata": {},
   "outputs": [],
   "source": [
    "# Sanity checks\n",
    "\n",
    "q = \"\"\"\n",
    "select area_orig, first_ign, count(1)\n",
    "from joint_buildingfires\n",
    "where area_orig != 'UU'\n",
    "    and first_ign != 'UU'\n",
    "group by area_orig, first_ign\n",
    "order by count desc\n",
    "\"\"\"\n",
    "\n",
    "pd.read_sql_query(q, conn)"
   ]
  },
  {
   "cell_type": "code",
   "execution_count": null,
   "metadata": {},
   "outputs": [],
   "source": [
    "# More sanity checks, including civ death/inj + flame spread\n",
    "\n",
    "q = \"\"\"\n",
    "select area_orig, first_ign, flame_sprd, COALESCE(oth_death, 0)+COALESCE(oth_inj,0) as civ_death_inj, count(1)\n",
    "from joint_buildingfires\n",
    "where area_orig != 'UU'\n",
    "    and first_ign != 'UU'\n",
    "group by area_orig, first_ign, flame_sprd, civ_death_inj\n",
    "order by count desc\"\"\"\n",
    "\n",
    "pd.read_sql_query(q, conn)"
   ]
  },
  {
   "cell_type": "code",
   "execution_count": null,
   "metadata": {},
   "outputs": [],
   "source": [
    "# For grouped propety usage only 6 most popular ignition sources\n",
    "\n",
    "q = \"\"\"\n",
    "-- \n",
    "\n",
    "SELECT area_orig,\n",
    "       first_ign,\n",
    "       x.cnt\n",
    "FROM\n",
    "    ( SELECT *,\n",
    "             row_number() over (partition BY area_orig\n",
    "                                ORDER BY area_orig, w.cnt DESC, first_ign) row_num\n",
    "     FROM\n",
    "         (SELECT bf.area_orig,\n",
    "                 bf.first_ign,\n",
    "                 count(*) OVER ( PARTITION BY bf.area_orig, bf.first_ign ) AS cnt,\n",
    "                 row_number() OVER ( PARTITION BY bf.area_orig, bf.first_ign ) AS row_numbers\n",
    "          FROM joint_buildingfires bf\n",
    "          WHERE bf.area_orig IN\n",
    "                  ( SELECT area_orig\n",
    "                   FROM joint_buildingfires\n",
    "                   WHERE prop_use in ('120', '121', '122', '123', '124', '129')\n",
    "                       AND area_orig != 'UU'\n",
    "                   GROUP BY area_orig\n",
    "                   ORDER BY count(1) DESC LIMIT 8)\n",
    "              AND bf.prop_use in ('120', '121', '122', '123', '124', '129')\n",
    "              AND bf.first_ign != 'UU'\n",
    "          ORDER BY area_orig,\n",
    "                   first_ign ) w\n",
    "     WHERE w.row_numbers = 1) x\n",
    "WHERE x.row_num < 7\n",
    "ORDER BY area_orig,\n",
    "         x.cnt DESC,\n",
    "         first_ign\n",
    "\"\"\"\n",
    "\n",
    "df = pd.read_sql_query(q, conn)\n",
    "display(df)"
   ]
  },
  {
   "cell_type": "code",
   "execution_count": null,
   "metadata": {},
   "outputs": [],
   "source": [
    "# Pull all from buildingfires to CSV\n",
    "\n",
    "q = \"\"\"\n",
    "select prop_use, area_orig, first_ign, oth_inj, oth_death, flame_sprd\n",
    "from joint_buildingfires\"\"\"\n",
    "\n",
    "df = pd.read_sql_query(q, conn)\n",
    "df.to_csv('/tmp/buildingfires.csv')"
   ]
  },
  {
   "cell_type": "code",
   "execution_count": null,
   "metadata": {},
   "outputs": [],
   "source": []
  }
 ],
 "metadata": {
  "anaconda-cloud": {},
  "kernelspec": {
   "display_name": "Python 3",
   "language": "python",
   "name": "python3"
  },
  "language_info": {
   "codemirror_mode": {
    "name": "ipython",
    "version": 3
   },
   "file_extension": ".py",
   "mimetype": "text/x-python",
   "name": "python",
   "nbconvert_exporter": "python",
   "pygments_lexer": "ipython3",
   "version": "3.7.6"
  }
 },
 "nbformat": 4,
 "nbformat_minor": 2
}
