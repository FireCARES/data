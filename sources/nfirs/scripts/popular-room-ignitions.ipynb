{
 "cells": [
  {
   "cell_type": "markdown",
   "metadata": {},
   "source": [
    "### Find the top rooms ignited and the top materials in those rooms that were first ignited"
   ]
  },
  {
   "cell_type": "code",
   "execution_count": null,
   "metadata": {},
   "outputs": [],
   "source": [
    "import psycopg2\n",
    "import pandas as pd\n",
    "from IPython.display import display\n",
    "\n",
    "conn = psycopg2.connect(service='nfirs')\n",
    "pd.options.display.max_rows = 1000\n",
    "\n",
    "df = pd.read_sql_query(\"select * from codelookup where fieldid = 'PROP_USE' and length(code_value) = 3 order by code_value\", conn)['code_value']\n",
    "codes = list(df.values)"
   ]
  },
  {
   "cell_type": "markdown",
   "metadata": {},
   "source": [
    "#### By property use type (batch by property type)"
   ]
  },
  {
   "cell_type": "code",
   "execution_count": null,
   "metadata": {},
   "outputs": [],
   "source": [
    "# Create a CSV for each property use type\n",
    "\n",
    "q = \"\"\"SELECT x.prop_use,\n",
    "       area_orig,\n",
    "       first_ign,\n",
    "       x.civ_inj,\n",
    "       x.civ_death,\n",
    "       x.flame_sprd,\n",
    "       x.item_sprd, \n",
    "       x.cnt\n",
    "FROM\n",
    "    ( SELECT *,\n",
    "             row_number() over (partition BY area_orig\n",
    "                                ORDER BY area_orig, w.cnt DESC, first_ign, w.flame_sprd,w.item_sprd, w.civ_death, w.civ_inj DESC) row_num\n",
    "     FROM\n",
    "         (SELECT distinct bf.area_orig,\n",
    "                 bf.first_ign,\n",
    "                 bf.prop_use,\n",
    "                 bf.flame_sprd,\n",
    "                 bf.item_sprd,\n",
    "                 COALESCE(bf.oth_death, 0) as civ_death,\n",
    "                 COALESCE(bf.oth_inj,0) as civ_inj,\n",
    "                 count(*) OVER ( PARTITION BY bf.area_orig, bf.first_ign, bf.flame_sprd, bf.item_sprd, COALESCE(bf.oth_death, 0)+COALESCE(bf.oth_inj,0) ) AS cnt,\n",
    "                 row_number() OVER ( PARTITION BY bf.area_orig, bf.first_ign, bf.flame_sprd, bf.item_sprd, COALESCE(bf.oth_death, 0)+COALESCE(bf.oth_inj,0) ) AS row_numbers\n",
    "          FROM joint_buildingfires bf\n",
    "          WHERE bf.area_orig IN\n",
    "                  ( SELECT area_orig\n",
    "                   FROM joint_buildingfires\n",
    "                   WHERE prop_use = %(use)s\n",
    "                       AND area_orig != 'UU'\n",
    "                       AND extract(year from inc_date) > 2011\n",
    "                   GROUP BY area_orig\n",
    "                   ORDER BY count(1) DESC LIMIT 8)\n",
    "              AND bf.prop_use = %(use)s\n",
    "              AND bf.first_ign != 'UU'\n",
    "              AND extract(year from inc_date) > 2011\n",
    "          ORDER BY area_orig,\n",
    "                   first_ign ) w\n",
    "     WHERE w.row_numbers = 1) x\n",
    "ORDER BY area_orig,\n",
    "         x.cnt DESC,\n",
    "         first_ign\n",
    "\"\"\"\n",
    "\n",
    "# for c in codes[1:2]:\n",
    "#     df = pd.read_sql_query(q, conn, params=dict(use=c))\n",
    "#     display(df)\n",
    "\n",
    "for c in codes:\n",
    "    df = pd.read_sql_query(q, conn, params=dict(use=c))\n",
    "    df.to_csv('/tmp/{}.csv'.format(c))"
   ]
  },
  {
   "cell_type": "code",
   "execution_count": null,
   "metadata": {},
   "outputs": [],
   "source": [
    "# Testing/sanity checks\n",
    "\n",
    "q = \"\"\"SELECT bf.prop_use, bf.area_orig,\n",
    "                 bf.first_ign,\n",
    "                 bf.flame_sprd,\n",
    "                 COALESCE(bf.oth_death, 0) + COALESCE(bf.oth_inj,0) as civ_inj_death,\n",
    "                 count(*) OVER ( PARTITION BY bf.area_orig, bf.first_ign, bf.flame_sprd, COALESCE(bf.oth_death, 0)+COALESCE(bf.oth_inj,0) ) AS cnt,\n",
    "                 row_number() OVER ( PARTITION BY bf.area_orig, bf.first_ign, bf.flame_sprd, COALESCE(bf.oth_death, 0)+COALESCE(bf.oth_inj,0) ) AS row_numbers\n",
    "          FROM buildingfires bf\n",
    "          WHERE bf.area_orig IN\n",
    "                  ( SELECT area_orig\n",
    "                   FROM buildingfires\n",
    "                   WHERE prop_use = %(use)s\n",
    "                       AND area_orig != 'UU'\n",
    "                   GROUP BY area_orig\n",
    "                   ORDER BY count(1) DESC LIMIT 8)\n",
    "              AND bf.prop_use = %(use)s\n",
    "              AND bf.first_ign != 'UU'\n",
    "          ORDER BY area_orig,\n",
    "                   first_ign,\n",
    "                   cnt desc\"\"\"\n",
    "\n",
    "pd.read_sql_query(q, conn, params=dict(use='100'))"
   ]
  },
  {
   "cell_type": "code",
   "execution_count": null,
   "metadata": {},
   "outputs": [],
   "source": [
    "q = \"\"\"\n",
    "select count(1)\n",
    "from joint_buildingfires\n",
    "where prop_use='100'\n",
    "    and area_orig = '00'\n",
    "    and first_ign = '00'\n",
    "    and COALESCE(oth_death, 0) + COALESCE(oth_inj, 0) = 0\n",
    "    and flame_sprd = 'N'\n",
    "\"\"\"\n",
    "\n",
    "pd.read_sql_query(q, conn)"
   ]
  },
  {
   "cell_type": "code",
   "execution_count": null,
   "metadata": {},
   "outputs": [],
   "source": [
    "# Sanity checks\n",
    "\n",
    "q = \"\"\"\n",
    "select area_orig, first_ign, count(1)\n",
    "from joint_buildingfires\n",
    "where area_orig != 'UU'\n",
    "    and first_ign != 'UU'\n",
    "group by area_orig, first_ign\n",
    "order by count desc\n",
    "\"\"\"\n",
    "\n",
    "pd.read_sql_query(q, conn)"
   ]
  },
  {
   "cell_type": "code",
   "execution_count": null,
   "metadata": {},
   "outputs": [],
   "source": [
    "# More sanity checks, including civ death/inj + flame spread\n",
    "\n",
    "q = \"\"\"\n",
    "select area_orig, first_ign, flame_sprd, COALESCE(oth_death, 0)+COALESCE(oth_inj,0) as civ_death_inj, count(1)\n",
    "from joint_buildingfires\n",
    "where area_orig != 'UU'\n",
    "    and first_ign != 'UU'\n",
    "group by area_orig, first_ign, flame_sprd, civ_death_inj\n",
    "order by count desc\"\"\"\n",
    "\n",
    "pd.read_sql_query(q, conn)"
   ]
  },
  {
   "cell_type": "code",
   "execution_count": null,
   "metadata": {},
   "outputs": [],
   "source": [
    "# For grouped propety usage only 6 most popular ignition sources\n",
    "\n",
    "q = \"\"\"\n",
    "-- \n",
    "\n",
    "SELECT area_orig,\n",
    "       first_ign,\n",
    "       x.cnt\n",
    "FROM\n",
    "    ( SELECT *,\n",
    "             row_number() over (partition BY area_orig\n",
    "                                ORDER BY area_orig, w.cnt DESC, first_ign) row_num\n",
    "     FROM\n",
    "         (SELECT bf.area_orig,\n",
    "                 bf.first_ign,\n",
    "                 count(*) OVER ( PARTITION BY bf.area_orig, bf.first_ign ) AS cnt,\n",
    "                 row_number() OVER ( PARTITION BY bf.area_orig, bf.first_ign ) AS row_numbers\n",
    "          FROM joint_buildingfires bf\n",
    "          WHERE bf.area_orig IN\n",
    "                  ( SELECT area_orig\n",
    "                   FROM joint_buildingfires\n",
    "                   WHERE prop_use in ('120', '121', '122', '123', '124', '129')\n",
    "                       AND area_orig != 'UU'\n",
    "                   GROUP BY area_orig\n",
    "                   ORDER BY count(1) DESC LIMIT 8)\n",
    "              AND bf.prop_use in ('120', '121', '122', '123', '124', '129')\n",
    "              AND bf.first_ign != 'UU'\n",
    "          ORDER BY area_orig,\n",
    "                   first_ign ) w\n",
    "     WHERE w.row_numbers = 1) x\n",
    "WHERE x.row_num < 7\n",
    "ORDER BY area_orig,\n",
    "         x.cnt DESC,\n",
    "         first_ign\n",
    "\"\"\"\n",
    "\n",
    "df = pd.read_sql_query(q, conn)\n",
    "display(df)"
   ]
  },
  {
   "cell_type": "code",
   "execution_count": null,
   "metadata": {},
   "outputs": [],
   "source": [
    "# Pull all from buildingfires to CSV\n",
    "\n",
    "q = \"\"\"\n",
    "select prop_use, area_orig, first_ign, oth_inj, oth_death, flame_sprd\n",
    "from joint_buildingfires\"\"\"\n",
    "\n",
    "df = pd.read_sql_query(q, conn)\n",
    "df.to_csv('/tmp/buildingfires.csv')"
   ]
  },
  {
   "cell_type": "code",
   "execution_count": null,
   "metadata": {},
   "outputs": [],
   "source": []
  }
 ],
 "metadata": {
  "anaconda-cloud": {},
  "kernelspec": {
   "display_name": "Python 2",
   "language": "python",
   "name": "python2"
  },
  "language_info": {
   "codemirror_mode": {
    "name": "ipython",
    "version": 2
   },
   "file_extension": ".py",
   "mimetype": "text/x-python",
   "name": "python",
   "nbconvert_exporter": "python",
   "pygments_lexer": "ipython2",
   "version": "2.7.14"
  }
 },
 "nbformat": 4,
 "nbformat_minor": 2
}
