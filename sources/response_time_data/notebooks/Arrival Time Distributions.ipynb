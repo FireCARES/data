{
 "cells": [
  {
   "cell_type": "code",
   "execution_count": 1,
   "metadata": {
    "collapsed": false,
    "deletable": true,
    "editable": true
   },
   "outputs": [
    {
     "data": {
      "text/plain": [
       "count    378927.000000\n",
       "mean          3.206186\n",
       "std           1.393627\n",
       "min           0.000085\n",
       "25%           2.211618\n",
       "50%           3.066299\n",
       "75%           4.051381\n",
       "max          15.533279\n",
       "Name: Total_Trav, dtype: float64"
      ]
     },
     "execution_count": 1,
     "metadata": {},
     "output_type": "execute_result"
    }
   ],
   "source": [
    "import pandas\n",
    "import os\n",
    "\n",
    "%matplotlib inline\n",
    "dt = pandas.read_csv(os.path.join(os.path.realpath('..'), 'detroit_response_time.csv'))\n",
    "dt['Total_Trav'].describe()"
   ]
  },
  {
   "cell_type": "code",
   "execution_count": 2,
   "metadata": {
    "collapsed": false,
    "deletable": true,
    "editable": true
   },
   "outputs": [
    {
     "data": {
      "text/plain": [
       "<matplotlib.axes._subplots.AxesSubplot at 0x10bc53890>"
      ]
     },
     "execution_count": 2,
     "metadata": {},
     "output_type": "execute_result"
    },
    {
     "data": {
      "image/png": "[encoded data removed]",
      "text/plain": [
       "<matplotlib.figure.Figure at 0x10bc53ed0>"
      ]
     },
     "metadata": {},
     "output_type": "display_data"
    }
   ],
   "source": [
    "import pandas\n",
    "%matplotlib inline\n",
    "dt = pandas.read_csv(os.path.join(os.path.realpath('..'), 'arlington_response_time.csv'))\n",
    "dt['Total_Trav'].hist()\n"
   ]
  },
  {
   "cell_type": "code",
   "execution_count": 3,
   "metadata": {
    "collapsed": false,
    "deletable": true,
    "editable": true
   },
   "outputs": [
    {
     "data": {
      "text/plain": [
       "count    42468.000000\n",
       "mean         2.269506\n",
       "std          1.157798\n",
       "min          0.000050\n",
       "25%          1.453490\n",
       "50%          2.047223\n",
       "75%          2.966185\n",
       "max         14.610306\n",
       "Name: Total_Trav, dtype: float64"
      ]
     },
     "execution_count": 3,
     "metadata": {},
     "output_type": "execute_result"
    }
   ],
   "source": [
    " dt['Total_Trav'].describe()"
   ]
  },
  {
   "cell_type": "code",
   "execution_count": 4,
   "metadata": {
    "collapsed": false,
    "deletable": true,
    "editable": true
   },
   "outputs": [
    {
     "name": "stdout",
     "output_type": "stream",
     "text": [
      "(0.3381962232249362, -1.0844073333047395, 3.1682731892016429)\n"
     ]
    },
    {
     "data": {
      "text/plain": [
       "(array([  1.72917762e-01,   3.34876062e-01,   1.43875186e-01,\n",
       "          2.97033681e-02,   2.35306117e-03,   3.86804576e-04,\n",
       "          9.67011441e-05,   1.61168573e-05,   8.05842867e-05,\n",
       "          1.45051716e-04]),\n",
       " array([  4.95214500e-05,   1.46107513e+00,   2.92210075e+00,\n",
       "          4.38312636e+00,   5.84415197e+00,   7.30517758e+00,\n",
       "          8.76620320e+00,   1.02272288e+01,   1.16882544e+01,\n",
       "          1.31492800e+01,   1.46103056e+01]),\n",
       " <a list of 10 Patch objects>)"
      ]
     },
     "execution_count": 4,
     "metadata": {},
     "output_type": "execute_result"
    },
    {
     "data": {
      "image/png": "[encoded data removed]",
      "text/plain": [
       "<matplotlib.figure.Figure at 0x10bc843d0>"
      ]
     },
     "metadata": {},
     "output_type": "display_data"
    }
   ],
   "source": [
    "from scipy.stats import lognorm\n",
    "import numpy as np\n",
    "import matplotlib.pyplot as plt\n",
    "\n",
    "# Use this to get the tuple shape, location, and scale.\n",
    "samp = lognorm.fit(dt['Total_Trav'])\n",
    "print samp\n",
    "lognorm.rvs(*samp)\n",
    "\n",
    "x = np.linspace(0, 14, 1000)\n",
    "pdf_fitted = lognorm.pdf(x, samp[0], loc=samp[1], scale=samp[2])\n",
    "\n",
    "#dt['Total_Trav'].hist(normed=True)\n",
    "fig, ax = plt.subplots(1,1)\n",
    "\n",
    "plt.plot(x, pdf_fitted, 'r-')\n",
    "plt.hist(dt['Total_Trav'], normed=True)\n"
   ]
  },
  {
   "cell_type": "code",
   "execution_count": 5,
   "metadata": {
    "collapsed": false,
    "deletable": true,
    "editable": true
   },
   "outputs": [],
   "source": [
    "class DrawType(object):\n",
    "    \"\"\"\n",
    "    Implements a base DrawType object.\n",
    "    \"\"\"\n",
    "    def draw(self):\n",
    "        raise NotImplementedError\n",
    "        \n",
    "\n",
    "class LogNormalDraw(DrawType):\n",
    "    \"\"\"\n",
    "    Implements a log normal draw.\n",
    "    >>> import numpy as np\n",
    "    >>> np.random.seed(1234)\n",
    "    >>> ud = LogNormalDraw(0.3381962232249362, -1.0844073333047395, 3.1682731892016429)\n",
    "    >>> ud.draw()\n",
    "    2.631505249260421\n",
    "    \"\"\"\n",
    "    def __init__(self, shape, location, scale, multiplier=1):\n",
    "        self.shape = shape\n",
    "        self.location = location\n",
    "        self.scale = scale\n",
    "        self.multiplier = multiplier\n",
    "\n",
    "    def draw(self):\n",
    "        return lognorm.rvs(self.shape, self.location, self.scale) * self.multiplier"
   ]
  },
  {
   "cell_type": "code",
   "execution_count": 6,
   "metadata": {
    "collapsed": false,
    "deletable": true,
    "editable": true
   },
   "outputs": [
    {
     "name": "stdout",
     "output_type": "stream",
     "text": [
      "10.6580819456\n",
      "2.27170197156\n"
     ]
    }
   ],
   "source": [
    "lnd = LogNormalDraw(*samp)\n",
    "res = []\n",
    "for i in range(10000):\n",
    "    res.append(lnd.draw())\n",
    "    \n",
    "res = np.array(res)\n",
    "print res.max()\n",
    "print res.mean()"
   ]
  }
 ],
 "metadata": {
  "kernelspec": {
   "display_name": "Python 2",
   "language": "python",
   "name": "python2"
  },
  "language_info": {
   "codemirror_mode": {
    "name": "ipython",
    "version": 2
   },
   "file_extension": ".py",
   "mimetype": "text/x-python",
   "name": "python",
   "nbconvert_exporter": "python",
   "pygments_lexer": "ipython2",
   "version": "2.7.12"
  }
 },
 "nbformat": 4,
 "nbformat_minor": 0
}
