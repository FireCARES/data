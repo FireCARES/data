{
 "cells": [
  {
   "cell_type": "code",
   "execution_count": 6,
   "metadata": {
    "collapsed": false
   },
   "outputs": [
    {
     "data": {
      "text/plain": [
       "count    378927.000000\n",
       "mean          3.206186\n",
       "std           1.393627\n",
       "min           0.000085\n",
       "25%           2.211618\n",
       "50%           3.066299\n",
       "75%           4.051381\n",
       "max          15.533279\n",
       "Name: Total_Trav, dtype: float64"
      ]
     },
     "execution_count": 6,
     "metadata": {},
     "output_type": "execute_result"
    }
   ],
   "source": [
    "import pandas\n",
    "\n",
    "%matplotlib inline\n",
    "dt = pandas.read_csv('../detroit_response_time.csv')\n",
    "dt['Total_Trav'].describe()"
   ]
  },
  {
   "cell_type": "code",
   "execution_count": null,
   "metadata": {
    "collapsed": false
   },
   "outputs": [],
   "source": [
    "import pandas\n",
    "%matplotlib inline\n",
    "dt = pandas.read_csv('../arlington_response_time.csv')\n",
    "dt['Total_Trav'].hist()\n"
   ]
  },
  {
   "cell_type": "code",
   "execution_count": 10,
   "metadata": {
    "collapsed": false
   },
   "outputs": [
    {
     "data": {
      "text/plain": [
       "count    42468.000000\n",
       "mean         2.269506\n",
       "std          1.157798\n",
       "min          0.000050\n",
       "25%          1.453490\n",
       "50%          2.047223\n",
       "75%          2.966185\n",
       "max         14.610306\n",
       "Name: Total_Trav, dtype: float64"
      ]
     },
     "execution_count": 10,
     "metadata": {},
     "output_type": "execute_result"
    }
   ],
   "source": [
    " dt['Total_Trav'].describe()"
   ]
  },
  {
   "cell_type": "code",
   "execution_count": 11,
   "metadata": {
    "collapsed": false
   },
   "outputs": [
    {
     "name": "stdout",
     "output_type": "stream",
     "text": [
      "(0.3381962232249362, -1.0844073333047395, 3.1682731892016429)\n"
     ]
    },
    {
     "data": {
      "text/plain": [
       "(array([  1.72917762e-01,   3.34876062e-01,   1.43875186e-01,\n",
       "          2.97033681e-02,   2.35306117e-03,   3.86804576e-04,\n",
       "          9.67011441e-05,   1.61168573e-05,   8.05842867e-05,\n",
       "          1.45051716e-04]),\n",
       " array([  4.95214500e-05,   1.46107513e+00,   2.92210075e+00,\n",
       "          4.38312636e+00,   5.84415197e+00,   7.30517758e+00,\n",
       "          8.76620320e+00,   1.02272288e+01,   1.16882544e+01,\n",
       "          1.31492800e+01,   1.46103056e+01]),\n",
       " <a list of 10 Patch objects>)"
      ]
     },
     "execution_count": 11,
     "metadata": {},
     "output_type": "execute_result"
    },
    {
     "data": {
      "image/png": "[encoded data removed]",
      "text/plain": [
       "<matplotlib.figure.Figure at 0x113cb4590>"
      ]
     },
     "metadata": {},
     "output_type": "display_data"
    }
   ],
   "source": [
    "from scipy.stats import lognorm\n",
    "import numpy as np\n",
    "import matplotlib.pyplot as plt\n",
    "\n",
    "# Use this to get the tuple shape, location, and scale.\n",
    "samp = lognorm.fit(dt['Total_Trav'])\n",
    "print samp\n",
    "lognorm.rvs(*samp)\n",
    "\n",
    "x = np.linspace(0, 14, 1000)\n",
    "pdf_fitted = lognorm.pdf(x, samp[0], loc=samp[1], scale=samp[2])\n",
    "\n",
    "#dt['Total_Trav'].hist(normed=True)\n",
    "fig, ax = plt.subplots(1,1)\n",
    "\n",
    "plt.plot(x, pdf_fitted, 'r-')\n",
    "plt.hist(dt['Total_Trav'], normed=True)\n"
   ]
  },
  {
   "cell_type": "code",
   "execution_count": 28,
   "metadata": {
    "collapsed": false,
    "scrolled": true
   },
   "outputs": [
    {
     "data": {
      "text/plain": [
       "[<matplotlib.lines.Line2D at 0x10c4bfe90>]"
      ]
     },
     "execution_count": 28,
     "metadata": {},
     "output_type": "execute_result"
    },
    {
     "data": {
      "image/png": "[encoded data removed]",
      "text/plain": [
       "<matplotlib.figure.Figure at 0x10c5662d0>"
      ]
     },
     "metadata": {},
     "output_type": "display_data"
    },
    {
     "data": {
      "image/png": "[encoded data removed]",
      "text/plain": [
       "<matplotlib.figure.Figure at 0x10c99ad50>"
      ]
     },
     "metadata": {},
     "output_type": "display_data"
    }
   ],
   "source": []
  },
  {
   "cell_type": "code",
   "execution_count": 44,
   "metadata": {
    "collapsed": false,
    "scrolled": true
   },
   "outputs": [
    {
     "data": {
      "text/plain": [
       "array([ 3.03124682,  2.04705775,  3.21774143,  1.26956519,  0.60394629,\n",
       "        1.94295309,  1.89466674,  2.67756875,  2.0818955 ,  2.46403248,\n",
       "        0.91741141,  1.74855655,  0.94201519,  1.4943771 ,  1.84304305,\n",
       "        2.63310573,  2.2699538 ,  2.38579563,  1.13980838,  0.5480349 ,\n",
       "        2.96801876,  1.0816029 ,  1.88923851,  0.70272875,  2.74531226,\n",
       "        4.12089069,  0.49841054,  4.68517908,  5.520114  ,  1.91641424,\n",
       "        2.27653655,  0.60085396,  1.26972805,  1.64900988,  2.62030648,\n",
       "        3.87726606,  2.38139879,  1.72763128,  1.87205235,  3.37362538,\n",
       "        2.58104706,  1.38247128,  0.78499754,  4.40004001,  1.24140766,\n",
       "        1.51571865,  1.24452253,  1.44235881,  1.23951104,  1.9050204 ])"
      ]
     },
     "execution_count": 44,
     "metadata": {},
     "output_type": "execute_result"
    }
   ],
   "source": []
  }
 ],
 "metadata": {
  "kernelspec": {
   "display_name": "Python 2",
   "language": "python",
   "name": "python2"
  },
  "language_info": {
   "codemirror_mode": {
    "name": "ipython",
    "version": 2
   },
   "file_extension": ".py",
   "mimetype": "text/x-python",
   "name": "python",
   "nbconvert_exporter": "python",
   "pygments_lexer": "ipython2",
   "version": "2.7.6"
  }
 },
 "nbformat": 4,
 "nbformat_minor": 0
}
