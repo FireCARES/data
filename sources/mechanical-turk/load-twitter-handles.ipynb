{
 "cells": [
  {
   "cell_type": "code",
   "execution_count": null,
   "metadata": {},
   "outputs": [],
   "source": [
    "import psycopg2\n",
    "import csv"
   ]
  },
  {
   "cell_type": "code",
   "execution_count": null,
   "metadata": {},
   "outputs": [],
   "source": [
    "rdr = csv.DictReader(open('./Batch_3328128_batch_results_final.csv'))\n",
    "items = [x for x in rdr if x['AssignmentStatus'] == 'Approved']"
   ]
  },
  {
   "cell_type": "code",
   "execution_count": null,
   "metadata": {},
   "outputs": [],
   "source": [
    "conn = psycopg2.connect('service=firecares')\n",
    "\n",
    "def sanitize_handle(s):\n",
    "    return s.strip('@')"
   ]
  },
  {
   "cell_type": "code",
   "execution_count": null,
   "metadata": {},
   "outputs": [],
   "source": [
    "with conn.cursor() as cur:\n",
    "    for i in items:\n",
    "        cur.execute('select id from firestation_firedepartment where name = %(name)s and state = %(state)s',\n",
    "                    dict(name=i['Input.name'], state=i['Input.state']))\n",
    "        id = cur.fetchone()[0]\n",
    "        cur.execute('update firestation_firedepartment set twitter_handle = %(handle)s where id=%(id)s',\n",
    "                    dict(handle=sanitize_handle(i['Answer.twitter_handle']), id=id))\n",
    "\n",
    "conn.commit()"
   ]
  },
  {
   "cell_type": "code",
   "execution_count": null,
   "metadata": {},
   "outputs": [],
   "source": []
  }
 ],
 "metadata": {
  "kernelspec": {
   "display_name": "Python 2",
   "language": "python",
   "name": "python2"
  },
  "language_info": {
   "codemirror_mode": {
    "name": "ipython",
    "version": 2
   },
   "file_extension": ".py",
   "mimetype": "text/x-python",
   "name": "python",
   "nbconvert_exporter": "python",
   "pygments_lexer": "ipython2",
   "version": "2.7.14"
  }
 },
 "nbformat": 4,
 "nbformat_minor": 2
}
