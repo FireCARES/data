{
 "cells": [
  {
   "cell_type": "code",
   "execution_count": 1,
   "metadata": {},
   "outputs": [],
   "source": [
    "import psycopg2\n",
    "import pandas as pd\n",
    "from datetime import datetime, timedelta\n",
    "\n",
    "exposures = psycopg2.connect('service=exposure')\n",
    "department_id = 78503\n",
    "start_date = (datetime.utcnow() - timedelta(days=30))\n"
   ]
  },
  {
   "cell_type": "code",
   "execution_count": 5,
   "metadata": {
    "scrolled": true
   },
   "outputs": [
    {
     "data": {
      "text/html": [
       "<div>\n",
       "<style scoped>\n",
       "    .dataframe tbody tr th:only-of-type {\n",
       "        vertical-align: middle;\n",
       "    }\n",
       "\n",
       "    .dataframe tbody tr th {\n",
       "        vertical-align: top;\n",
       "    }\n",
       "\n",
       "    .dataframe thead th {\n",
       "        text-align: right;\n",
       "    }\n",
       "</style>\n",
       "<table border=\"1\" class=\"dataframe\">\n",
       "  <thead>\n",
       "    <tr style=\"text-align: right;\">\n",
       "      <th></th>\n",
       "      <th>incident_number</th>\n",
       "    </tr>\n",
       "    <tr>\n",
       "      <th>event_closed</th>\n",
       "      <th></th>\n",
       "    </tr>\n",
       "  </thead>\n",
       "  <tbody>\n",
       "    <tr>\n",
       "      <th>2020-08-24 23:06:02+00:00</th>\n",
       "      <td>F20127780</td>\n",
       "    </tr>\n",
       "    <tr>\n",
       "      <th>2020-08-24 23:06:13+00:00</th>\n",
       "      <td>F20127782</td>\n",
       "    </tr>\n",
       "    <tr>\n",
       "      <th>2020-08-24 23:07:39+00:00</th>\n",
       "      <td>F20127760</td>\n",
       "    </tr>\n",
       "    <tr>\n",
       "      <th>2020-08-24 23:08:29+00:00</th>\n",
       "      <td>F20127771</td>\n",
       "    </tr>\n",
       "    <tr>\n",
       "      <th>2020-08-24 23:12:00+00:00</th>\n",
       "      <td>F20127775</td>\n",
       "    </tr>\n",
       "    <tr>\n",
       "      <th>...</th>\n",
       "      <td>...</td>\n",
       "    </tr>\n",
       "    <tr>\n",
       "      <th>2020-09-22 21:22:40+00:00</th>\n",
       "      <td>F20144082</td>\n",
       "    </tr>\n",
       "    <tr>\n",
       "      <th>2020-09-22 21:33:41+00:00</th>\n",
       "      <td>F20144106</td>\n",
       "    </tr>\n",
       "    <tr>\n",
       "      <th>2020-09-22 21:33:54+00:00</th>\n",
       "      <td>F20144105</td>\n",
       "    </tr>\n",
       "    <tr>\n",
       "      <th>2020-09-22 21:35:18+00:00</th>\n",
       "      <td>F20144078</td>\n",
       "    </tr>\n",
       "    <tr>\n",
       "      <th>2020-09-22 21:41:37+00:00</th>\n",
       "      <td>F20144098</td>\n",
       "    </tr>\n",
       "  </tbody>\n",
       "</table>\n",
       "<p>15085 rows × 1 columns</p>\n",
       "</div>"
      ],
      "text/plain": [
       "                          incident_number\n",
       "event_closed                             \n",
       "2020-08-24 23:06:02+00:00       F20127780\n",
       "2020-08-24 23:06:13+00:00       F20127782\n",
       "2020-08-24 23:07:39+00:00       F20127760\n",
       "2020-08-24 23:08:29+00:00       F20127771\n",
       "2020-08-24 23:12:00+00:00       F20127775\n",
       "...                                   ...\n",
       "2020-09-22 21:22:40+00:00       F20144082\n",
       "2020-09-22 21:33:41+00:00       F20144106\n",
       "2020-09-22 21:33:54+00:00       F20144105\n",
       "2020-09-22 21:35:18+00:00       F20144078\n",
       "2020-09-22 21:41:37+00:00       F20144098\n",
       "\n",
       "[15085 rows x 1 columns]"
      ]
     },
     "execution_count": 5,
     "metadata": {},
     "output_type": "execute_result"
    }
   ],
   "source": [
    "incidents = pd.read_sql_query(f'SELECT event_closed, incident_number FROM \"Incidents\" WHERE department_id = {department_id} AND event_closed > \\'{start_date}\\'', exposures)\n",
    "incidents.drop_duplicates(subset ='incident_number', \n",
    "                     keep = False, inplace = True) \n",
    "\n",
    "incidents = incidents.set_index('event_closed')\n",
    "\n",
    "incidents.sort_index(inplace=True)\n",
    "incidents\n"
   ]
  },
  {
   "cell_type": "code",
   "execution_count": 6,
   "metadata": {},
   "outputs": [],
   "source": [
    "incidents.to_csv('./columbus_incidents.csv')"
   ]
  },
  {
   "cell_type": "code",
   "execution_count": null,
   "metadata": {},
   "outputs": [],
   "source": []
  }
 ],
 "metadata": {
  "kernelspec": {
   "display_name": "Python 3",
   "language": "python",
   "name": "python3"
  },
  "language_info": {
   "codemirror_mode": {
    "name": "ipython",
    "version": 3
   },
   "file_extension": ".py",
   "mimetype": "text/x-python",
   "name": "python",
   "nbconvert_exporter": "python",
   "pygments_lexer": "ipython3",
   "version": "3.7.6"
  }
 },
 "nbformat": 4,
 "nbformat_minor": 4
}
